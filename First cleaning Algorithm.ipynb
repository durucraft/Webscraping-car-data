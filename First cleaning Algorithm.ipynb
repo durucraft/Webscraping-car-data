{
 "cells": [
  {
   "cell_type": "code",
   "execution_count": 2,
   "metadata": {},
   "outputs": [],
   "source": [
    "#Importing scraped data \n",
    "finale_car=pd.read_csv(\"new_cars.csv\")\n",
    "finale_car.drop(columns=\"Unnamed: 0\",inplace=True)"
   ]
  },
  {
   "cell_type": "code",
   "execution_count": 1,
   "metadata": {},
   "outputs": [],
   "source": [
    "#Importing scraped data need enconding or dataa wont load \n",
    "import pandas as pd\n",
    "import re\n",
    "car=pd.read_csv('cars1.csv',encoding = \"ISO-8859-1\",header=None,names=[\"Name\",\"Year\",\"Miles\",\"Location\",\"Extrior\",\"Style\",\"Interior\",\"MPG\",\"Engine\",\"Transmission\",\"DriveType\",\"FuelType\",\"Price\",\"Vin\",\"remove\",],skip_blank_lines=True)\n",
    "cary=car.drop(columns=[\"remove\"])\n",
    "cars=cary.dropna(axis=0)\n",
    "dirty_cars=cars.reset_index()\n",
    "clean_ca=dirty_cars.drop(columns='index')\n",
    "clean_ca.drop(index=0,inplace=True)\n",
    "clean_ca.reset_index(inplace=True)\n",
    "clean_car=pd.DataFrame(clean_ca)\n",
    "clean_car.drop(columns=['index'],inplace=True)\n",
    "clean_cars=clean_car.copy()\n",
    "Name=clean_car['Name']"
   ]
  },
  {
   "cell_type": "code",
   "execution_count": 2,
   "metadata": {},
   "outputs": [],
   "source": [
    "car_colors=pd.read_csv('Colors.csv',header=None,names=['Color'])"
   ]
  },
  {
   "cell_type": "code",
   "execution_count": 3,
   "metadata": {},
   "outputs": [],
   "source": [
    "#Loop through dataset to split and get wanted data\n",
    "for i in range(len(Name)):\n",
    "    clean_cars['Year'][i]=clean_car['Name'][i][0:4]\n",
    "    clean_cars['Name'][i]=clean_car['Name'][i][4:]\n",
    "    clean_cars['Miles'][i]=clean_car['Miles'][i][:-5]\n",
    "    clean_cars['Extrior'][i]=clean_car['Extrior'][i][14:]\n",
    "    clean_cars['Style'][i]=clean_car['Style'][i][5:]\n",
    "    clean_cars['Interior'][i]=clean_car['Interior'][i][14:]\n",
    "    clean_cars['MPG'][i]=clean_car['MPG'][i][3:]\n",
    "    clean_cars['Engine'][i]=clean_car['Engine'][i][6:]\n",
    "    clean_cars['Transmission'][i]=clean_car['Transmission'][i][12:]\n",
    "    clean_cars['DriveType'][i]=clean_car['DriveType'][i][10:]\n",
    "    clean_cars['FuelType'][i]=clean_car['FuelType'][i][9:]\n",
    "    clean_cars['Price'][i]=clean_car['Price'][i][1:]\n",
    "    clean_cars['Vin'][i]=clean_car['Vin'][i][5:]"
   ]
  },
  {
   "cell_type": "code",
   "execution_count": 4,
   "metadata": {},
   "outputs": [],
   "source": [
    "#removing commas from prices\n",
    "for i in range(len(Name)):\n",
    "    clean_cars['Price'][i]=clean_cars['Price'][i].replace(\",\", \"\")"
   ]
  },
  {
   "cell_type": "code",
   "execution_count": 5,
   "metadata": {},
   "outputs": [
    {
     "data": {
      "text/plain": [
       "array(['Gas', 'Hybrid', 'Electric', 'Diesel', 'Plug-In', 'eFWD', 'CNG',\n",
       "       'e4WD'], dtype=object)"
      ]
     },
     "execution_count": 5,
     "metadata": {},
     "output_type": "execute_result"
    }
   ],
   "source": [
    "gaz=clean_cars[\"FuelType\"]\n",
    "pd.unique(gaz)"
   ]
  },
  {
   "cell_type": "code",
   "execution_count": 6,
   "metadata": {},
   "outputs": [
    {
     "data": {
      "text/plain": [
       "array(['68362 ', '13836 ', '13277 ', ..., '34577 ', '28597 ', '11389 '],\n",
       "      dtype=object)"
      ]
     },
     "execution_count": 6,
     "metadata": {},
     "output_type": "execute_result"
    }
   ],
   "source": [
    "ihs=clean_cars[\"Price\"]\n",
    "pd.unique(ihs)"
   ]
  },
  {
   "cell_type": "code",
   "execution_count": 7,
   "metadata": {
    "scrolled": true
   },
   "outputs": [],
   "source": [
    "sh=clean_cars[\"Engine\"]\n",
    "U_Engine=pd.unique(sh)"
   ]
  },
  {
   "cell_type": "code",
   "execution_count": 8,
   "metadata": {},
   "outputs": [],
   "source": [
    "names=clean_cars[\"Name\"]\n",
    "U_names=pd.unique(names)"
   ]
  },
  {
   "cell_type": "code",
   "execution_count": 9,
   "metadata": {
    "scrolled": true
   },
   "outputs": [],
   "source": [
    "mihs=clean_cars[\"MPG\"]\n",
    "U_mpg=pd.unique(mihs)"
   ]
  },
  {
   "cell_type": "code",
   "execution_count": 10,
   "metadata": {
    "scrolled": true
   },
   "outputs": [],
   "source": [
    "clean_cars = clean_cars[clean_cars.FuelType !=\"Diesel\"]\n",
    "clean_cars.reset_index(inplace=True)\n",
    "clean_cars.drop(columns=['index'],inplace=True)"
   ]
  },
  {
   "cell_type": "code",
   "execution_count": 11,
   "metadata": {},
   "outputs": [],
   "source": [
    "clean_cars = clean_cars[clean_cars.FuelType !=\"Hybrid\"]\n",
    "clean_cars.reset_index(inplace=True)\n",
    "clean_cars.drop(columns=['index'],inplace=True)"
   ]
  },
  {
   "cell_type": "code",
   "execution_count": 12,
   "metadata": {},
   "outputs": [],
   "source": [
    "clean_cars = clean_cars[clean_cars.FuelType !=\"Plug-In\"]\n",
    "clean_cars.reset_index(inplace=True)\n",
    "clean_cars.drop(columns=['index'],inplace=True)"
   ]
  },
  {
   "cell_type": "code",
   "execution_count": 13,
   "metadata": {},
   "outputs": [],
   "source": [
    "clean_cars = clean_cars[clean_cars.Price !=\"uel TypeGas\"]\n",
    "clean_cars.reset_index(inplace=True)\n",
    "clean_cars.drop(columns=['index'],inplace=True)"
   ]
  },
  {
   "cell_type": "code",
   "execution_count": 14,
   "metadata": {},
   "outputs": [],
   "source": [
    "clean_cars = clean_cars[clean_cars.MPG !=\"N/A cty / N/A hwy\"]\n",
    "clean_cars.reset_index(inplace=True)\n",
    "clean_cars.drop(columns=['index'],inplace=True)"
   ]
  },
  {
   "cell_type": "code",
   "execution_count": 15,
   "metadata": {},
   "outputs": [],
   "source": [
    "electric=clean_cars.loc[clean_cars['Engine'] == \"L - Electric\"]\n",
    "electric.reset_index(inplace=True)\n",
    "for z in range(len(electric)):\n",
    "    index_number=electric['index'][z]\n",
    "    clean_cars.drop(index=index_number,inplace=True)"
   ]
  },
  {
   "cell_type": "code",
   "execution_count": 16,
   "metadata": {},
   "outputs": [],
   "source": [
    "clean_car1=clean_cars.copy()\n",
    "clean_car1.set_index('Vin',inplace=True)\n",
    "clean_car1.reset_index(inplace=True)"
   ]
  },
  {
   "cell_type": "code",
   "execution_count": 17,
   "metadata": {},
   "outputs": [
    {
     "data": {
      "text/plain": [
       "array(['Quartzite Metallic', 'Taffeta White', 'Phantom Black', ...,\n",
       "       'Olympus Silver Metallic', 'Nimbus Gray Metallic',\n",
       "       'Deep Blue Opal Metallic'], dtype=object)"
      ]
     },
     "execution_count": 17,
     "metadata": {},
     "output_type": "execute_result"
    }
   ],
   "source": [
    "colu=clean_car1[\"Extrior\"]\n",
    "colur=pd.unique(colu)"
   ]
  },
  {
   "cell_type": "code",
   "execution_count": 5,
   "metadata": {},
   "outputs": [],
   "source": [
    "colu=finale_car[\"Extrior\"]\n",
    "colur=pd.unique(colu)"
   ]
  },
  {
   "cell_type": "code",
   "execution_count": 18,
   "metadata": {},
   "outputs": [],
   "source": [
    "years=clean_car1.Year\n",
    "Names=clean_car1.Name"
   ]
  },
  {
   "cell_type": "code",
   "execution_count": 19,
   "metadata": {},
   "outputs": [],
   "source": [
    "YNam=[]\n",
    "for i in range(len(Names)):\n",
    "    new_name=years[i]+Names[i]\n",
    "    YNam.append(new_name)"
   ]
  },
  {
   "cell_type": "code",
   "execution_count": 20,
   "metadata": {
    "scrolled": true
   },
   "outputs": [],
   "source": [
    "new_names=pd.unique(YNam)\n",
    "N_df=pd.DataFrame(new_names,columns=['Name'])"
   ]
  },
  {
   "cell_type": "code",
   "execution_count": 21,
   "metadata": {},
   "outputs": [],
   "source": [
    "Years=[]\n",
    "Names=[]\n",
    "for i in range(len(new_names)):\n",
    "    yeh=N_df['Name'][i][0:4]\n",
    "    Yeh=N_df['Name'][i][4:]\n",
    "    Years.append(yeh)\n",
    "    Names.append(Yeh)\n",
    "N_df[\"Name\"]=Names\n",
    "N_df[\"Year\"]=Years"
   ]
  },
  {
   "cell_type": "code",
   "execution_count": 22,
   "metadata": {
    "scrolled": true
   },
   "outputs": [],
   "source": [
    "car_brand=pd.read_csv('allcarbrand.csv',header=None,names=['Brand'])"
   ]
  },
  {
   "cell_type": "code",
   "execution_count": 23,
   "metadata": {},
   "outputs": [],
   "source": [
    "d=N_df.Name\n",
    "brand=car_brand.Brand\n",
    "list_brand = []\n",
    "Equal=[]\n",
    "equals=[]\n",
    "columns=[\"A\",\"B\"]\n",
    "P_df=pd.DataFrame(index=range(1829),columns=columns)\n",
    "\n",
    "for c in d:\n",
    "    zed=c.lower()\n",
    "    for b in brand:      \n",
    "        br=b.lower()\n",
    "        if br in zed:\n",
    "            Equal.append(br)\n",
    "            equals.append(c)\n",
    "            list_brand.append(b)\n",
    "P_df[\"A\"]=Equal\n",
    "P_df[\"B\"]=equals\n",
    "m=equals[1664]\n"
   ]
  },
  {
   "cell_type": "code",
   "execution_count": 24,
   "metadata": {},
   "outputs": [],
   "source": [
    "#getting unique brands and checking if there in the df before\n",
    "renum=[]\n",
    "for i in range(1829):\n",
    "    j=1\n",
    "    while j<1829:\n",
    "        if Equal[i]!=P_df['A'][j]:\n",
    "            if equals[i]==P_df[\"B\"][j]:\n",
    "                renum.append(j)\n",
    "        j=j+1"
   ]
  },
  {
   "cell_type": "code",
   "execution_count": 25,
   "metadata": {
    "scrolled": false
   },
   "outputs": [
    {
     "data": {
      "text/plain": [
       "[654, 960, 1413, 1622, 653, 959, 1412, 1621, 1665, 1664, 1751, 1750]"
      ]
     },
     "execution_count": 25,
     "metadata": {},
     "output_type": "execute_result"
    }
   ],
   "source": [
    "new_m=pd.unique(renum)\n",
    "new_mm=new_m.tolist()\n",
    "new_mm"
   ]
  },
  {
   "cell_type": "code",
   "execution_count": 26,
   "metadata": {
    "scrolled": true
   },
   "outputs": [],
   "source": [
    "#removing duplicates that might have join\n",
    "import sys as sys\n",
    "for i in range(len(new_mm)):\n",
    "    j=1\n",
    "    while j <len(new_mm):\n",
    "        if new_mm[i]-new_mm[j]==1:\n",
    "            rem=new_mm[j]\n",
    "            new_mm.remove(rem)\n",
    "        else:\n",
    "           break\n",
    "        j=j+1"
   ]
  },
  {
   "cell_type": "code",
   "execution_count": 27,
   "metadata": {},
   "outputs": [],
   "source": [
    "for i in range(len(new_mm)):\n",
    "    life=new_mm[i]\n",
    "    m=equals[life]\n",
    "    N_df.drop( N_df[ N_df['Name'] == m].index , inplace=True)"
   ]
  },
  {
   "cell_type": "code",
   "execution_count": 30,
   "metadata": {},
   "outputs": [],
   "source": [
    "N_df.reset_index(inplace=True)\n",
    "N_df.drop(columns=[\"index\"],inplace=True)"
   ]
  },
  {
   "cell_type": "code",
   "execution_count": 31,
   "metadata": {},
   "outputs": [],
   "source": [
    "d=N_df.Name\n",
    "brand=car_brand.Brand\n",
    "Equals=[]\n",
    "for c in d:\n",
    "    zed=c.lower()\n",
    "    for b in brand:      \n",
    "        br=b.lower()\n",
    "        if br in zed:\n",
    "            Equals.append(b)\n",
    "N_df['Brand']=Equals"
   ]
  },
  {
   "cell_type": "code",
   "execution_count": 32,
   "metadata": {},
   "outputs": [],
   "source": [
    "brand_name=[]\n",
    "vec_name=[]\n",
    "for i in range(len(N_df.Brand)):\n",
    "    j=len(N_df.Brand[i])\n",
    "    zem=N_df.Name[i][1:j+1]\n",
    "    zms=N_df.Name[i][j+2:]\n",
    "    nun=zem.replace(\" \", \"-\")\n",
    "    nan=zms.replace(\" \",\"-\")\n",
    "    brand_name.append(nun)\n",
    "    vec_name.append(nan)"
   ]
  },
  {
   "cell_type": "code",
   "execution_count": 33,
   "metadata": {
    "scrolled": true
   },
   "outputs": [],
   "source": [
    "N_df[\"Brands\"]=brand_name\n",
    "N_df[\"vec_name\"]=vec_name"
   ]
  },
  {
   "cell_type": "code",
   "execution_count": 34,
   "metadata": {},
   "outputs": [],
   "source": [
    "mpg=clean_car1.MPG\n",
    "city_mpg=[]\n",
    "high_mpg=[]\n",
    "for c in mpg:\n",
    "    city=c[0:2]\n",
    "    highway=c[9:11]\n",
    "    city_mpg.append(city)\n",
    "    high_mpg.append(highway)\n",
    "\n",
    "clean_car1[\"City\"]=city_mpg\n",
    "clean_car1[\"Highway\"]=high_mpg\n",
    "clean_car1.drop(columns='MPG',inplace=True)"
   ]
  },
  {
   "cell_type": "code",
   "execution_count": 35,
   "metadata": {
    "scrolled": true
   },
   "outputs": [],
   "source": [
    "clean_car1['City']=clean_car1['City'].astype(int)\n",
    "clean_car1['Highway']=clean_car1['Highway'].astype(int)\n",
    "clean_car1['Year']=clean_car1['Year'].astype(int)\n",
    "clean_car1['Miles']=clean_car1['Miles'].astype(int)\n",
    "clean_car1['Price']=clean_car1['Price'].astype(int)"
   ]
  },
  {
   "cell_type": "code",
   "execution_count": 38,
   "metadata": {},
   "outputs": [],
   "source": [
    "charg=['Turbocharged','Regular','Supercharged']\n",
    "Turbos={}\n",
    "i=0\n",
    "while i<=len(charg)-1:\n",
    "    j=charg[i]\n",
    "    Turbos[j]=i\n",
    "    i=i+1\n"
   ]
  },
  {
   "cell_type": "code",
   "execution_count": 39,
   "metadata": {},
   "outputs": [],
   "source": [
    "#converating turbo to numbers \n",
    "Char=clean_car1.Engine\n",
    "list_Tur = []\n",
    "list_Turb= []\n",
    "i=0\n",
    "for Charge in Char:\n",
    "    Cha=Charge.lower()\n",
    "    for Turb in charg:      \n",
    "        Turbo=Turb.lower()\n",
    "        if Turbo in Cha :\n",
    "            list_Tur.append(Turb)\n",
    "            break\n",
    "    else:\n",
    "        list_Tur.append(\"Regular\")\n",
    "while i<len(list_Tur):\n",
    "    k=list_Tur[i]\n",
    "    nume=Turbos[k]\n",
    "    list_Turb.append(nume)\n",
    "    i=i+1   \n",
    "clean_car1[\"Turbo\"]=list_Turb"
   ]
  },
  {
   "cell_type": "code",
   "execution_count": 40,
   "metadata": {},
   "outputs": [],
   "source": [
    "lis_cyl=[]\n",
    "for i in range(len(Char)):\n",
    "    lis_cyl.append(clean_car1[\"Engine\"][i][5:13])\n",
    "clean_car1[\"Temp\"]=lis_cyl"
   ]
  },
  {
   "cell_type": "code",
   "execution_count": 41,
   "metadata": {},
   "outputs": [],
   "source": [
    "Cy=['3','4','5','6','7','8','9','10','11','12']\n",
    "Cylinder={}\n",
    "i=0\n",
    "while i<=len(Cy)-1:\n",
    "    j=Cy[i]\n",
    "    Cylinder[j]=i\n",
    "    i=i+1"
   ]
  },
  {
   "cell_type": "code",
   "execution_count": 42,
   "metadata": {},
   "outputs": [],
   "source": [
    "#getting number of cyl for each cars\n",
    "Cyl=clean_car1.Temp\n",
    "list_cyl = []\n",
    "list_cylin= []\n",
    "i=0\n",
    "for Cyla in Cyl:\n",
    "    Cys=Cyla.lower()\n",
    "    for Cyli in Cy: \n",
    "        Cylin=Cyli.lower()\n",
    "        if Cylin in Cys:\n",
    "            list_cyl.append(Cyli)\n",
    "clean_car1[\"Cylinder\"]=list_cyl"
   ]
  },
  {
   "cell_type": "code",
   "execution_count": 43,
   "metadata": {},
   "outputs": [
    {
     "data": {
      "text/plain": [
       "array(['AWD', 'FWD', '4WD', 'RWD'], dtype=object)"
      ]
     },
     "execution_count": 43,
     "metadata": {},
     "output_type": "execute_result"
    }
   ],
   "source": [
    "types=clean_car1[\"DriveType\"]\n",
    "tye=pd.unique(types)\n",
    "tye"
   ]
  },
  {
   "cell_type": "code",
   "execution_count": 44,
   "metadata": {},
   "outputs": [],
   "source": [
    "ty=['AWD', 'FWD', '4WD', 'RWD']\n",
    "Types={}\n",
    "i=0\n",
    "while i<=len(ty)-1:\n",
    "    j=ty[i]\n",
    "    Types[j]=i\n",
    "    i=i+1"
   ]
  },
  {
   "cell_type": "code",
   "execution_count": 45,
   "metadata": {},
   "outputs": [],
   "source": [
    "#convaration drivetypes to number \n",
    "Ty=clean_car1.DriveType\n",
    "list_Ty = []\n",
    "list_Typ= []\n",
    "i=0\n",
    "for Typ in Ty:\n",
    "    Typs=Typ.lower()\n",
    "    for tys in ty: \n",
    "        typs=tys.lower()\n",
    "        if typs in Typs:\n",
    "            list_Ty.append(tys)\n",
    "while i<len(list_Ty):\n",
    "    k=list_Ty[i]\n",
    "    nums=Types[k]\n",
    "    list_Typ.append(nums)\n",
    "    i=i+1\n",
    "clean_car1[\"DrivingType\"]=list_Typ"
   ]
  },
  {
   "cell_type": "code",
   "execution_count": 46,
   "metadata": {
    "scrolled": true
   },
   "outputs": [],
   "source": [
    "clean_Vi=clean_car1[\"Vin\"].copy()\n",
    "clean_Vin=pd.DataFrame(clean_Vi)"
   ]
  },
  {
   "cell_type": "code",
   "execution_count": 47,
   "metadata": {},
   "outputs": [],
   "source": [
    "names1=clean_car1[\"Name\"]"
   ]
  },
  {
   "cell_type": "code",
   "execution_count": 48,
   "metadata": {},
   "outputs": [],
   "source": [
    "clean_car1.to_csv(\"clean_car.csv\",header=True)\n",
    "clean_Vin.to_csv(\"clean_Vins.csv\",header=True)\n",
    "N_df.to_csv(\"Clean_vech.csv\",header=True)"
   ]
  }
 ],
 "metadata": {
  "kernelspec": {
   "display_name": "Python 3",
   "language": "python",
   "name": "python3"
  },
  "language_info": {
   "codemirror_mode": {
    "name": "ipython",
    "version": 3
   },
   "file_extension": ".py",
   "mimetype": "text/x-python",
   "name": "python",
   "nbconvert_exporter": "python",
   "pygments_lexer": "ipython3",
   "version": "3.7.1"
  }
 },
 "nbformat": 4,
 "nbformat_minor": 2
}
