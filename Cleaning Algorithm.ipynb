{
 "cells": [
  {
   "cell_type": "code",
   "execution_count": null,
   "metadata": {
    "scrolled": false
   },
   "outputs": [],
   "source": [
    "import pandas as pd\n",
    "import re\n",
    "car=pd.read_csv('car_scrape.csv',encoding = \"ISO-8859-1\",header=None,names=[\"Name\",\"Year\",\"Miles\",\"Location\",\"Extrior\",\"Style\",\"Interior\",\"MPG\",\"Engine\",\"Transmission\",\"DriveType\",\"FuelType\",\"Price\",\"Vin\",\"remove\",],skip_blank_lines=True)\n",
    "cary=car.drop(columns=[\"remove\"])\n",
    "cars=cary.dropna(axis=0)\n",
    "dirty_cars=cars.reset_index()\n",
    "clean_ca=dirty_cars.drop(columns='index')\n",
    "clean_ca.drop(index=0,inplace=True)\n",
    "clean_ca.reset_index(inplace=True)\n",
    "clean_car=pd.DataFrame(clean_ca)\n",
    "clean_car.drop(columns=['index'],inplace=True)\n",
    "clean_cars=clean_car.copy()\n",
    "Name=clean_car['Name']\n",
    "clean_car"
   ]
  },
  {
   "cell_type": "code",
   "execution_count": null,
   "metadata": {},
   "outputs": [],
   "source": [
    "car_brand=pd.read_csv('allcarbrand.csv',header=None,names=['Brand'])\n",
    "car_brand"
   ]
  },
  {
   "cell_type": "code",
   "execution_count": null,
   "metadata": {},
   "outputs": [],
   "source": [
    "for i in range(len(Name)):\n",
    "    clean_cars['Year'][i]=clean_car['Name'][i][0:4]\n",
    "    clean_cars['Name'][i]=clean_car['Name'][i][4:]\n",
    "    clean_cars['Miles'][i]=clean_car['Miles'][i][:-5]\n",
    "    clean_cars['Extrior'][i]=clean_car['Extrior'][i][14:]\n",
    "    clean_cars['Style'][i]=clean_car['Style'][i][5:]\n",
    "    clean_cars['Interior'][i]=clean_car['Interior'][i][14:]\n",
    "    clean_cars['MPG'][i]=clean_car['MPG'][i][3:]\n",
    "    clean_cars['Engine'][i]=clean_car['Engine'][i][6:]\n",
    "    clean_cars['Transmission'][i]=clean_car['Transmission'][i][12:]\n",
    "    clean_cars['DriveType'][i]=clean_car['DriveType'][i][10:]\n",
    "    clean_cars['FuelType'][i]=clean_car['FuelType'][i][9:]\n",
    "    clean_cars['Price'][i]=clean_car['Price'][i][1:]\n",
    "    clean_cars['Vin'][i]=clean_car['Vin'][i][5:]\n"
   ]
  },
  {
   "cell_type": "code",
   "execution_count": null,
   "metadata": {},
   "outputs": [],
   "source": [
    "for i in range(len(Name)):\n",
    "    clean_cars['Price'][i]=clean_cars['Price'][i].replace(\",\", \"\")\n",
    "\n"
   ]
  },
  {
   "cell_type": "code",
   "execution_count": null,
   "metadata": {},
   "outputs": [],
   "source": [
    "gaz=clean_cars[\"FuelType\"]\n",
    "pd.unique(gaz)"
   ]
  },
  {
   "cell_type": "code",
   "execution_count": null,
   "metadata": {},
   "outputs": [],
   "source": [
    "ihs=clean_cars[\"Price\"]\n",
    "pd.unique(ihs)"
   ]
  },
  {
   "cell_type": "code",
   "execution_count": null,
   "metadata": {},
   "outputs": [],
   "source": [
    "sh=clean_cars[\"Engine\"]\n",
    "pd.unique(sh)"
   ]
  },
  {
   "cell_type": "code",
   "execution_count": null,
   "metadata": {
    "scrolled": true
   },
   "outputs": [],
   "source": [
    "with pd.option_context('display.max_rows', None, 'display.max_columns', None):  # more options can be specified also\n",
    "    print(clean_cars)"
   ]
  },
  {
   "cell_type": "code",
   "execution_count": null,
   "metadata": {
    "scrolled": true
   },
   "outputs": [],
   "source": [
    "clean_cars = clean_cars[clean_cars.FuelType !=\"Diesel\"]\n",
    "clean_cars.reset_index(inplace=True)\n",
    "clean_cars.drop(columns=['index'],inplace=True)\n"
   ]
  },
  {
   "cell_type": "code",
   "execution_count": null,
   "metadata": {},
   "outputs": [],
   "source": [
    "clean_cars = clean_cars[clean_cars.FuelType !=\"Plug-In\"]\n",
    "clean_cars.reset_index(inplace=True)\n",
    "clean_cars.drop(columns=['index'],inplace=True)"
   ]
  },
  {
   "cell_type": "code",
   "execution_count": null,
   "metadata": {},
   "outputs": [],
   "source": [
    "clean_cars = clean_cars[clean_cars.FuelType !=\"Hybrid\"]\n",
    "clean_cars.reset_index(inplace=True)\n",
    "clean_cars.drop(columns=['index'],inplace=True)"
   ]
  },
  {
   "cell_type": "code",
   "execution_count": null,
   "metadata": {},
   "outputs": [],
   "source": [
    "clean_cars = clean_cars[clean_cars.Price !=\"uel TypeGas\"]\n",
    "clean_cars.reset_index(inplace=True)\n",
    "clean_cars.drop(columns=['index'],inplace=True)\n"
   ]
  },
  {
   "cell_type": "code",
   "execution_count": null,
   "metadata": {},
   "outputs": [],
   "source": [
    "clean_cars = clean_cars[clean_cars.MPG !=\"N/A cty / N/A hwy\"]\n",
    "clean_cars.reset_index(inplace=True)\n",
    "clean_cars.drop(columns=['index'],inplace=True)"
   ]
  },
  {
   "cell_type": "code",
   "execution_count": null,
   "metadata": {},
   "outputs": [],
   "source": [
    "gazs=clean_cars[\"FuelType\"]\n",
    "pd.unique(gazs)"
   ]
  },
  {
   "cell_type": "code",
   "execution_count": null,
   "metadata": {},
   "outputs": [],
   "source": [
    "mihs=clean_cars[\"MPG\"]\n",
    "pd.unique(mihs)"
   ]
  },
  {
   "cell_type": "code",
   "execution_count": null,
   "metadata": {},
   "outputs": [],
   "source": [
    "clean_cars['Year']=clean_cars['Year'].astype(int)\n",
    "clean_cars['Miles']=clean_cars['Miles'].astype(int)\n",
    "clean_cars['Price']=clean_cars['Price'].astype(int)"
   ]
  },
  {
   "cell_type": "code",
   "execution_count": null,
   "metadata": {},
   "outputs": [],
   "source": [
    "electric=clean_cars.loc[clean_cars['Engine'] == \"L - Electric\"]\n",
    "electric.reset_index(inplace=True)\n",
    "for z in range(len(electric)):\n",
    "    index_number=electric['index'][z]\n",
    "    clean_cars.drop(index=index_number,inplace=True)"
   ]
  },
  {
   "cell_type": "code",
   "execution_count": null,
   "metadata": {},
   "outputs": [],
   "source": [
    "clean_car1=clean_cars.copy()\n",
    "clean_car1.set_index('Vin',inplace=True)\n",
    "clean_car1.reset_index(inplace=True)\n",
    "clean_car1"
   ]
  },
  {
   "cell_type": "code",
   "execution_count": null,
   "metadata": {},
   "outputs": [],
   "source": [
    "d=clean_car1.Name\n",
    "i=0\n",
    "brand=car_brand.Brand\n",
    "list_brand = []\n",
    "for c in d:\n",
    "    zed=c.lower()\n",
    "    for b in brand:      \n",
    "        br=b.lower()\n",
    "        if br in zed:\n",
    "            list_brand.append(b)            \n",
    "list_brand\n",
    "clean_car1[\"Brand\"]=list_brand"
   ]
  },
  {
   "cell_type": "code",
   "execution_count": null,
   "metadata": {},
   "outputs": [],
   "source": [
    "clean_car1"
   ]
  },
  {
   "cell_type": "code",
   "execution_count": null,
   "metadata": {
    "scrolled": true
   },
   "outputs": [],
   "source": [
    "mpg=clean_car1.MPG\n",
    "city_mpg=[]\n",
    "high_mpg=[]\n",
    "for c in mpg:\n",
    "    city=c[0:2]\n",
    "    highway=c[9:11]\n",
    "    city_mpg.append(city)\n",
    "    high_mpg.append(highway)\n",
    "\n",
    "clean_car1[\"City\"]=city_mpg\n",
    "clean_car1[\"Highway\"]=high_mpg\n",
    "clean_car1.drop(columns='MPG',inplace=True)"
   ]
  },
  {
   "cell_type": "code",
   "execution_count": null,
   "metadata": {
    "scrolled": true
   },
   "outputs": [],
   "source": [
    "clean_car1['City']=clean_car1['City'].astype(int)\n",
    "clean_car1['Highway']=clean_car1['Highway'].astype(int)"
   ]
  },
  {
   "cell_type": "code",
   "execution_count": null,
   "metadata": {},
   "outputs": [],
   "source": [
    "clean_car1.to_csv(\"clean_car.csv\",header=True,index=True)"
   ]
  },
  {
   "cell_type": "code",
   "execution_count": null,
   "metadata": {},
   "outputs": [],
   "source": [
    "m=clean_car1[\"Vin\"]==clean_car1['Vin']\n",
    "pd.unique(m)"
   ]
  }
 ],
 "metadata": {
  "kernelspec": {
   "display_name": "Python 3",
   "language": "python",
   "name": "python3"
  },
  "language_info": {
   "codemirror_mode": {
    "name": "ipython",
    "version": 3
   },
   "file_extension": ".py",
   "mimetype": "text/x-python",
   "name": "python",
   "nbconvert_exporter": "python",
   "pygments_lexer": "ipython3",
   "version": "3.7.1"
  }
 },
 "nbformat": 4,
 "nbformat_minor": 2
}
