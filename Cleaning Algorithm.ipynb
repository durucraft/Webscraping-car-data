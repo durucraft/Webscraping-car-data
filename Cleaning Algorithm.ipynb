{
 "cells": [
  {
   "cell_type": "code",
   "execution_count": 1,
   "metadata": {},
   "outputs": [],
   "source": [
    "import pandas as pd\n",
    "import re\n",
    "car=pd.read_csv('cars1.csv',encoding = \"ISO-8859-1\",header=None,names=[\"Name\",\"Year\",\"Miles\",\"Location\",\"Extrior\",\"Style\",\"Interior\",\"MPG\",\"Engine\",\"Transmission\",\"DriveType\",\"FuelType\",\"Price\",\"Vin\",\"remove\",],skip_blank_lines=True)\n",
    "cary=car.drop(columns=[\"remove\"])\n",
    "cars=cary.dropna(axis=0)\n",
    "dirty_cars=cars.reset_index()\n",
    "clean_ca=dirty_cars.drop(columns='index')\n",
    "clean_ca.drop(index=0,inplace=True)\n",
    "clean_ca.reset_index(inplace=True)\n",
    "clean_car=pd.DataFrame(clean_ca)\n",
    "clean_car.drop(columns=['index'],inplace=True)\n",
    "clean_cars=clean_car.copy()\n",
    "Name=clean_car['Name']"
   ]
  },
  {
   "cell_type": "code",
   "execution_count": 2,
   "metadata": {},
   "outputs": [],
   "source": [
    "car_colors=pd.read_csv('Colors.csv',header=None,names=['Color'])"
   ]
  },
  {
   "cell_type": "code",
   "execution_count": 3,
   "metadata": {},
   "outputs": [],
   "source": [
    "for i in range(len(Name)):\n",
    "    clean_cars['Year'][i]=clean_car['Name'][i][0:4]\n",
    "    clean_cars['Name'][i]=clean_car['Name'][i][4:]\n",
    "    clean_cars['Miles'][i]=clean_car['Miles'][i][:-5]\n",
    "    clean_cars['Extrior'][i]=clean_car['Extrior'][i][14:]\n",
    "    clean_cars['Style'][i]=clean_car['Style'][i][5:]\n",
    "    clean_cars['Interior'][i]=clean_car['Interior'][i][14:]\n",
    "    clean_cars['MPG'][i]=clean_car['MPG'][i][3:]\n",
    "    clean_cars['Engine'][i]=clean_car['Engine'][i][6:]\n",
    "    clean_cars['Transmission'][i]=clean_car['Transmission'][i][12:]\n",
    "    clean_cars['DriveType'][i]=clean_car['DriveType'][i][10:]\n",
    "    clean_cars['FuelType'][i]=clean_car['FuelType'][i][9:]\n",
    "    clean_cars['Price'][i]=clean_car['Price'][i][1:]\n",
    "    clean_cars['Vin'][i]=clean_car['Vin'][i][5:]"
   ]
  },
  {
   "cell_type": "code",
   "execution_count": 4,
   "metadata": {},
   "outputs": [],
   "source": [
    "for i in range(len(Name)):\n",
    "    clean_cars['Price'][i]=clean_cars['Price'][i].replace(\",\", \"\")"
   ]
  },
  {
   "cell_type": "code",
   "execution_count": 5,
   "metadata": {},
   "outputs": [
    {
     "data": {
      "text/plain": [
       "array(['Gas', 'Hybrid', 'Electric', 'Diesel', 'Plug-In', 'eFWD', 'CNG',\n",
       "       'e4WD'], dtype=object)"
      ]
     },
     "execution_count": 5,
     "metadata": {},
     "output_type": "execute_result"
    }
   ],
   "source": [
    "gaz=clean_cars[\"FuelType\"]\n",
    "pd.unique(gaz)"
   ]
  },
  {
   "cell_type": "code",
   "execution_count": 6,
   "metadata": {},
   "outputs": [
    {
     "data": {
      "text/plain": [
       "array(['68362 ', '13836 ', '13277 ', ..., '34577 ', '28597 ', '11389 '],\n",
       "      dtype=object)"
      ]
     },
     "execution_count": 6,
     "metadata": {},
     "output_type": "execute_result"
    }
   ],
   "source": [
    "ihs=clean_cars[\"Price\"]\n",
    "pd.unique(ihs)\n"
   ]
  },
  {
   "cell_type": "code",
   "execution_count": 7,
   "metadata": {
    "collapsed": true
   },
   "outputs": [
    {
     "data": {
      "text/plain": [
       "array(['3.0L V-6 Gas Turbocharged', '2.0L Inline-4 Gas', '3.6L V-6 Gas',\n",
       "       '2.5L Inline-4 Gas', '1.5L Inline-4 Gas', '1.8L Inline-4 Hybrid',\n",
       "       '2.5L Flat-4 Gas', '2.0L Inline-4 Gas Turbocharged',\n",
       "       '1.8L Inline-4 Gas', '4.6L V-8 Gas', '3.5L V-6 Gas',\n",
       "       '2.4L Inline-4 Gas', '6.2L V-8 Gas', '5.3L V-8 Gas',\n",
       "       '6.0L V-8 Gas', '1.4L Inline-4 Gas Turbocharged',\n",
       "       '1.5L Inline-4 Gas Turbocharged', 'L - Electric',\n",
       "       '1.6L Inline-4 Gas', '2.0L Inline-4 Diesel Turbocharged',\n",
       "       '1.0L Inline-3 Gas Turbocharged', '1.8L Inline-4 Gas Turbocharged',\n",
       "       '1.2L Inline-4 Gas', '2.4L Inline-4 Gas Turbocharged',\n",
       "       '3.0L Inline-6 Gas Turbocharged', '5.4L V-8 Gas', '5.0L V-8 Gas',\n",
       "       '1.5L Inline-3 Gas Turbocharged', '2.7L Inline-4 Gas',\n",
       "       '3.7L V-6 Gas', '4.0L V-6 Gas', '3.3L V-6 Gas',\n",
       "       '3.5L V-6 Gas Turbocharged', '3.0L V-6 Gas', '4.3L V-6 Gas',\n",
       "       '2.0L Inline-4 Hybrid', '1.5L Inline-4 Hybrid', '5.7L V-8 Gas',\n",
       "       '3.0L V-6 Diesel Turbocharged', '2.2L Inline-4 Gas',\n",
       "       '4.6L V-8 Gas Turbocharged', '6.8L V-10 Gas',\n",
       "       '2.0L Inline-4 Gas Supercharged and Turbocharged',\n",
       "       '1.2L Inline-3 Gas', '1.6L Inline-4 Gas Turbocharged',\n",
       "       '2.5L Inline-4 Hybrid', '3.0L Inline-6 Gas', '3.9L V-6 Gas',\n",
       "       '3.8L V-6 Gas', '2.7L V-6 Gas Turbocharged', '4.8L V-8 Gas',\n",
       "       '3.2L V-6 Gas', '2.5L Inline-5 Gas Turbocharged',\n",
       "       '3.0L Inline-6 Diesel Turbocharged', '1.4L Inline-4 Plug-In',\n",
       "       '4.4L V-8 Gas Turbocharged', '2.3L V-4 Gas Turbocharged',\n",
       "       '3.5L V-6 Hybrid', '2.0L Flat-4 Gas Turbocharged', 'cty / 39 hwy',\n",
       "       '2.5L Inline-5 Gas', '2.5L Flat-4 Gas Turbocharged',\n",
       "       '6.6L V-12 Gas Turbocharged', '1.8L Inline-4 Plug-In',\n",
       "       '3.7L V-6 Gas Turbocharged', '2.4L Inline-4 Hybrid',\n",
       "       '3.0L Flat-6 Gas', '5.6L V-8 Gas', '4.0L V-8 Gas Turbocharged',\n",
       "       '2.0L Inline-4 Plug-In', '2.3L Inline-4 Gas',\n",
       "       '2.0L V-4 Gas Turbocharged', '3.6L V-6 Gas Turbocharged',\n",
       "       '2.7L V-6 Gas', '3.6L Flat-6 Gas', '6.0L W-12 Gas Turbocharged',\n",
       "       '3.4L Flat-6 Gas', '3.0L V-6 Gas Supercharged',\n",
       "       '5.3L Inline-8 Gas Turbocharged',\n",
       "       '2.0L Inline-4 Plug-In Turbocharged', '1.5L Inline-4 Plug-In',\n",
       "       '0.6L Inline-2 Plug-In', '6.6L V-8 Diesel Turbocharged',\n",
       "       '1.4L Inline-4 Gas', '2.0L Flat-4 Gas', '4.2L V-8 Gas',\n",
       "       '6.2L V-8 Gas Supercharged', '6.4L V-8 Gas', '1.8L Inline-4 CNG',\n",
       "       '2.3L Inline-4 Gas Turbocharged',\n",
       "       '1.5L Inline-3 Plug-In Turbocharged', '5.5L V-8 Gas',\n",
       "       '5.0L V-8 Gas Turbocharged', '4.8L V-8 Gas Turbocharged',\n",
       "       '2.5L Inline-4 Gas Turbocharged', '1.3L Inline-4 Hybrid',\n",
       "       '5.0L V-8 Gas Supercharged', '1.9L Inline-4 Gas', '4.4L V-8 Gas',\n",
       "       '2.5L V-6 Gas', '3.4L V-6 Gas', '4.7L V-8 Gas', '4.3L V-8 Gas',\n",
       "       '2.1L Inline-4 Diesel Turbocharged', '4.7L V-8 Gas Turbocharged',\n",
       "       '3.0L V-6 Plug-In Turbocharged',\n",
       "       '2.5L Inline-4 Hybrid Supercharged',\n",
       "       '6.0L V-8 Diesel Turbocharged', '4.2L Inline-6 Gas',\n",
       "       '2.4L Inline-5 Gas', '1.0L Inline-3 Gas', '1.8L -4 Gas',\n",
       "       'cty / 31 hwy', '1.3L Inline-4 Gas',\n",
       "       '5.0L V-8 Diesel Turbocharged', 'cty / 40 hwy',\n",
       "       '2.0L Inline-4 Hybrid Turbocharged', '4.0L Inline-6 Gas',\n",
       "       '6.7L V-8 Diesel Turbocharged', '6.8L V-8 Gas Turbocharged',\n",
       "       '3.2L Inline-6 Gas', '6.3L V-8 Gas', '5.5L V-8 Gas Turbocharged',\n",
       "       '6.4L V-8 Diesel Turbocharged', '3.0L V-6 Hybrid',\n",
       "       '4.2L V-8 Gas Supercharged', '4.2L V-6 Gas', '4.0L V-8 Gas',\n",
       "       '1.6L Inline-4 Gas Supercharged', '5.2L V-8 Gas',\n",
       "       '1.4L Inline-4 Hybrid Turbocharged', '3.7L Inline-5 Gas',\n",
       "       '6.7L V-6 Diesel Turbocharged', '3.3L V-6 Hybrid',\n",
       "       '7.3L V-8 Diesel Turbocharged',\n",
       "       '1.9L Inline-4 Diesel Turbocharged',\n",
       "       '3.8L Flat-6 Gas Turbocharged', '4.5L V-8 Gas', '5.2L V-10 Gas',\n",
       "       'cty / 36 hwy', '3.2L Flat-6 Gas', '8.0L V-10 Gas',\n",
       "       '6.0L V-8 Hybrid', '5.0L V-10 Gas', '6.1L V-8 Gas',\n",
       "       '1.7L Inline-4 Gas', '2.6L V-6 Gas',\n",
       "       '2.8L V-4 Diesel Turbocharged', '3.9L V-8 Gas',\n",
       "       '3.3L V-6 Gas Turbocharged', '3.6L Flat-6 Gas Turbocharged',\n",
       "       '3.0L V-6 Diesel', '5.9L V-8 Gas', '5.9L V-6 Diesel Turbocharged'],\n",
       "      dtype=object)"
      ]
     },
     "execution_count": 7,
     "metadata": {},
     "output_type": "execute_result"
    }
   ],
   "source": [
    "sh=clean_cars[\"Engine\"]\n",
    "pd.unique(sh)"
   ]
  },
  {
   "cell_type": "code",
   "execution_count": 8,
   "metadata": {
    "collapsed": true
   },
   "outputs": [
    {
     "data": {
      "text/plain": [
       "array([' Porsche Cayenne', ' Honda Civic', ' Hyundai Elantra',\n",
       "       ' Jeep Wrangler', ' Nissan Rogue', ' Honda Fit', ' Toyota Prius',\n",
       "       ' Subaru Forester', ' Land Rover Range Rover Evoque',\n",
       "       ' Nissan Sentra', ' Ford F-150', ' Toyota Highlander',\n",
       "       ' Hyundai Sonata', ' Hyundai Tucson', ' Toyota RAV4',\n",
       "       ' Volvo XC60', ' Ford Super Duty F-250', ' BMW X3', ' Honda Pilot',\n",
       "       ' GMC Sierra 1500', ' GMC Sierra 2500HD', ' Volkswagen Jetta',\n",
       "       ' Chevrolet Traverse', ' Honda CR-V', ' Dodge Dart', ' FIAT 500',\n",
       "       ' Toyota Corolla', ' Hyundai Accent', ' Nissan Versa',\n",
       "       ' Ford Focus', ' Volkswagen Passat', ' Kia Soul',\n",
       "       ' Chevrolet Cruze', ' Chevrolet Spark', ' Chevrolet Cruze Limited',\n",
       "       ' Kia Forte', ' Ford Fusion', ' Ford Fiesta', ' Subaru Legacy',\n",
       "       ' Jeep Renegade', ' Nissan LEAF', ' Chevrolet Sonic',\n",
       "       ' Kia Optima', ' Ford Escape', ' Chevrolet Trax', ' Nissan Altima',\n",
       "       ' Scion FR-S', ' Toyota Camry', ' Lexus NX', ' Mercedes-Benz GLA',\n",
       "       ' BMW 5 Series', ' Volkswagen Tiguan', ' Mercedes-Benz GLE',\n",
       "       ' Chevrolet Silverado 1500', ' Ford Econoline Wagon', ' Audi Q3',\n",
       "       ' Jeep Cherokee', ' Chevrolet Tahoe', ' Jeep Grand Cherokee',\n",
       "       ' Cadillac ATS', ' BMW X1', ' Ram Cargo Van', ' Toyota Tacoma',\n",
       "       ' Mercedes-Benz E-Class', ' Chevrolet Malibu',\n",
       "       ' Mercedes-Benz CLA', ' Mitsubishi Eclipse Cross', ' Audi S5',\n",
       "       ' Lexus GX', ' Toyota Avalon', ' Ford Mustang',\n",
       "       ' MINI Convertible', ' Nissan Maxima', ' BMW X5', ' Lexus RX',\n",
       "       ' Toyota Venza', ' Honda HR-V', ' Buick Encore', ' Toyota 4Runner',\n",
       "       ' Kia Sedona', ' Lexus LS', ' Honda Accord',\n",
       "       ' Mercedes-Benz C-Class', ' BMW 3 Series', ' Ram 1500',\n",
       "       ' Cadillac Escalade', ' Chevrolet Equinox', ' Chevrolet Colorado',\n",
       "       ' Audi A4', ' Ford Edge', ' Cadillac SRX', ' Toyota Prius c',\n",
       "       ' Acura RL', ' Audi Q7', ' Ram 2500', ' Chevrolet HHR',\n",
       "       ' Mercedes-Benz S-Class', ' Mazda CX-5', ' Ford E-Series Cutaway',\n",
       "       ' Volvo XC90', ' Mitsubishi Mirage', ' Buick Enclave',\n",
       "       ' MINI Countryman', ' Toyota Sienna', ' Dodge Challenger',\n",
       "       ' Lincoln MKX', ' Ford Explorer', ' Nissan Pathfinder',\n",
       "       ' FIAT 500X', ' Honda Ridgeline', ' Chevrolet Impala',\n",
       "       ' GMC Terrain', ' Toyota Yaris', ' Volkswagen e-Golf',\n",
       "       ' Hyundai Kona', ' Mitsubishi Lancer', ' Hyundai Veloster',\n",
       "       ' Jeep Compass', ' BMW 4 Series', ' GMC Savana Cargo Van',\n",
       "       ' Buick Envision', ' Dodge Avenger', ' Mazda Mazda3', ' Volvo S60',\n",
       "       ' GMC Acadia', ' Land Rover Range Rover Sport', ' Jeep Patriot',\n",
       "       ' Chevrolet Volt', ' Ford Expedition', ' Dodge Journey',\n",
       "       ' Nissan Murano', ' BMW 7 Series', ' Kia Cadenza', ' Audi A3',\n",
       "       ' Subaru Outback', ' Chrysler 200', ' Saab 9-5', ' Acura MDX',\n",
       "       ' Lexus ES', ' Volkswagen Atlas', ' FIAT 500L',\n",
       "       ' Alfa Romeo Giulia', ' Ram 1500 Classic',\n",
       "       ' Ford Transit Connect Van', ' Volkswagen Golf', ' Ford Taurus',\n",
       "       ' Lexus GS', ' Honda Odyssey', ' Chevrolet Suburban',\n",
       "       ' Toyota Corolla Hatchback', ' Kia Rio', ' Toyota Corolla iM',\n",
       "       ' Mitsubishi Outlander Sport', ' Ford Super Duty F-350',\n",
       "       ' Subaru WRX', ' Kia Sorento', ' Hyundai Azera',\n",
       "       ' Rolls-Royce Wraith', ' Toyota Prius Prime', ' Nissan Kicks',\n",
       "       ' Lincoln MKZ', ' Toyota Camry Solara', ' Nissan Frontier',\n",
       "       ' Maserati Ghibli', ' Subaru B9 Tribeca', ' MINI Hardtop',\n",
       "       ' Ford EcoSport', ' Chrysler 300', ' INFINITI QX56',\n",
       "       ' Jaguar S-TYPE', ' Kia Sportage', ' Audi S8', ' Toyota C-HR',\n",
       "       ' Mercedes-Benz GLC', ' Cadillac DTS', ' Toyota Sequoia',\n",
       "       ' Chevrolet Silverado 2500HD', ' Buick Cascada',\n",
       "       ' Mercedes-Benz GLS', ' Buick Verano', ' Mercedes-Benz SL',\n",
       "       ' BMW X4', ' Lincoln MKC', ' INFINITI QX60',\n",
       "       ' Ford Transit Connect Wagon', ' Kia Stinger', ' Scion iA',\n",
       "       ' Toyota Yaris iA', ' Chevrolet Aveo', ' Cadillac XT5',\n",
       "       ' Mercedes-Benz R-Class', ' Toyota Land Cruiser', ' Nissan Titan',\n",
       "       ' Audi Q5', ' Acura TLX', ' Hyundai Veracruz', ' BMW X6',\n",
       "       ' Chevrolet Camaro', ' GMC Yukon', ' Hyundai Santa Fe',\n",
       "       ' Land Rover LR4', ' Buick Regal', ' Chevrolet Corvette',\n",
       "       ' Scion xD', ' Bentley Continental GT', ' Mazda CX-3',\n",
       "       ' Porsche 911', ' BMW 6 Series', ' Jaguar XF', ' Saab 9-3',\n",
       "       ' Hyundai Santa Fe Sport', ' Chrysler Town & Country', ' BMW i3',\n",
       "       ' Lexus IS', ' Scion iM', ' Audi A5', ' Saturn VUE',\n",
       "       ' Lincoln Nautilus', ' Subaru Impreza', ' Audi A8',\n",
       "       ' Lincoln Town Car', ' Ford Super Duty F-550',\n",
       "       ' Chrysler Pacifica', ' Chevrolet Malibu Limited',\n",
       "       ' Toyota Tundra', ' Acura ILX', ' Lexus LX',\n",
       "       ' Land Rover Range Rover', ' INFINITI Q50', ' Nissan JUKE',\n",
       "       ' Audi A6', ' INFINITI QX30', ' Lincoln MKS',\n",
       "       ' Mercury Grand Marquis', ' Acura RDX', ' Dodge Charger',\n",
       "       ' Jaguar F-PACE', ' Lincoln Continental', ' Mazda MPV',\n",
       "       ' Mercedes-Benz GLK', ' GMC Sierra Denali', ' INFINITI M',\n",
       "       ' INFINITI FX', ' Acura TSX', ' Kia Spectra', ' Mercury Milan',\n",
       "       ' Subaru Crosstrek', ' Ford C-Max', ' Scion tC',\n",
       "       ' Dodge Grand Caravan', ' Nissan Armada', ' INFINITI QX50',\n",
       "       ' Ford Transit Cargo Van', ' BMW i8', ' Dodge Durango',\n",
       "       ' Ram ProMaster City Cargo Van', ' Chevrolet Captiva Sport Fleet',\n",
       "       ' Chevrolet Express Cargo Van', ' Lexus RC',\n",
       "       ' Land Rover Discovery Sport', ' Cadillac XTS', ' Honda Insight',\n",
       "       ' Hyundai Genesis', ' smart fortwo', ' Volkswagen Beetle',\n",
       "       ' MINI Cooper Paceman', ' Nissan Rogue Sport',\n",
       "       ' Nissan Rogue Select', ' Ford Excursion', ' Jaguar F-TYPE',\n",
       "       ' Mitsubishi Outlander', ' Audi S7', ' Buick LaCrosse',\n",
       "       ' Mercedes-Benz Metris Passenger Van', ' Volkswagen Touareg',\n",
       "       ' Nissan 350Z', ' Saturn SC 3dr', ' MINI Clubman', ' INFINITI G',\n",
       "       ' GMC Canyon', ' Mazda Mazda2', ' Volkswagen GTI', ' Acura RLX',\n",
       "       ' Chevrolet Express Passenger', ' Volkswagen Tiguan Limited',\n",
       "       ' Lincoln Navigator', ' Mazda Tribute', ' Subaru Tribeca',\n",
       "       ' Volkswagen Golf Alltrack', ' Kia Rondo', ' Maserati GranTurismo',\n",
       "       ' Lexus SC', ' Jaguar XE', ' Volkswagen CC', ' Mazda CX-7',\n",
       "       ' Nissan NV200 Compact Cargo', ' Volvo S80', ' Audi A7',\n",
       "       ' Honda Crosstour', ' Chevrolet Silverado 1500 LD',\n",
       "       ' Mercedes-Benz Sprinter Cargo Van', ' Ford Econoline Cargo Van',\n",
       "       ' Mercedes-Benz GL', ' Buick Lucerne', ' Porsche Macan',\n",
       "       ' Volkswagen Golf GTI', ' Maserati Quattroporte',\n",
       "       ' Ford Econoline Commercial Cutaway', ' Ram 3500',\n",
       "       ' Mercedes-Benz M-Class', ' Chevrolet Cobalt', ' Volvo S90',\n",
       "       ' BMW X5 M', ' Jaguar XJ', ' Chevrolet TrailBlazer',\n",
       "       ' INFINITI Q60', ' Porsche 718 Cayman', ' Mazda Mazda6',\n",
       "       ' Audi S4', ' Volvo V70', ' Toyota FJ Cruiser',\n",
       "       ' Mercedes-Benz CLS', ' Porsche Panamera', ' Dodge Caliber',\n",
       "       ' BMW 2 Series', ' INFINITI QX80', ' Ford Flex', ' Cadillac STS',\n",
       "       ' Lexus CT', ' INFINITI Q40', ' Mazda CX-9', ' Suzuki Kizashi',\n",
       "       ' Mazda Mazda5', ' Scion iQ', ' Nissan Titan XD',\n",
       "       ' Chevrolet Uplander', ' Nissan Quest', ' Chrysler Sebring',\n",
       "       ' Mercedes-Benz AMG GT', ' Mitsubishi i-MiEV',\n",
       "       ' Land Rover Range Rover Velar', ' Kia K900', ' Volvo C70',\n",
       "       ' Jeep Liberty', ' HUMMER H2', ' FIAT 124 Spider',\n",
       "       ' Hyundai Equus', ' BMW X6 M', ' Lincoln MKT', ' Volkswagen Eos',\n",
       "       ' Bentley Mulsanne', ' Pontiac Solstice', ' BMW M3',\n",
       "       ' Chevrolet Tracker', ' Ford Transit Passenger Wagon',\n",
       "       ' Land Rover LR2', ' Mercedes-Benz CL', ' Dodge Ram 2500',\n",
       "       ' MINI Cooper', ' Genesis G80', ' Ram ProMaster City Wagon',\n",
       "       ' BMW 1 Series', ' Tesla Model S', ' BMW X2', ' INFINITI Q70',\n",
       "       ' Scion xB', ' BMW 8 Series', ' Mercury Sable',\n",
       "       ' Volvo V60 Cross Country', ' Audi RS 7', ' Nissan 370Z',\n",
       "       ' Mercedes-Benz A-Class', ' BMW Z4', ' Cadillac CTS', ' Acura TL',\n",
       "       ' Mercedes-Benz Metris Cargo Van', ' MINI Cooper Coupe',\n",
       "       ' Jaguar E-PACE', ' INFINITI EX35', ' HUMMER H3', ' BMW X7',\n",
       "       ' INFINITI Q70L', ' GMC Savana Passenger', ' Nissan Cube',\n",
       "       ' Dodge Dakota', ' Ram ProMaster Cargo Van', ' Lexus LC',\n",
       "       ' Tesla Model 3', ' Nissan Xterra', ' Lexus HS', ' Jeep Gladiator',\n",
       "       ' Land Rover Discovery', ' Audi S6', ' Volkswagen Golf SportWagen',\n",
       "       ' Chevrolet Silverado 3500HD', ' Chevrolet Avalanche',\n",
       "       ' Volvo V50', ' Toyota Prius v', ' Chevrolet Silverado 2500',\n",
       "       ' Chevrolet Silverado 3500HD Chassis Cab', ' Jaguar X-TYPE',\n",
       "       ' Cadillac Escalade EXT', ' Audi S3', ' BMW M4', ' BMW M2',\n",
       "       ' Ferrari 458 Italia', ' Lamborghini Huracan',\n",
       "       ' Buick Regal TourX', ' GMC Acadia Limited', ' Chevrolet Bolt EV',\n",
       "       ' Alfa Romeo Stelvio', ' Buick LeSabre', ' Honda CR-Z',\n",
       "       ' Audi SQ5', ' Saturn LW', ' Toyota Celica', ' Volvo XC70',\n",
       "       ' Volvo C30', ' Audi TT', ' Honda Element', ' Porsche Boxster',\n",
       "       ' Cadillac XLR', ' Nissan NV', ' Chrysler Crossfire',\n",
       "       ' Dodge Viper', ' Ford Ranger', ' BMW M5', ' Volvo V60',\n",
       "       ' Mercury Mountaineer', ' Pontiac G6', ' Dodge Ram 1500',\n",
       "       ' Dodge Nitro', ' Jaguar XK8', ' Jeep Commander',\n",
       "       ' Volvo V90 Cross Country', ' Ford Thunderbird', ' Kia Telluride',\n",
       "       ' Audi RS 5', ' Freightliner Sprinter Cargo Vans',\n",
       "       ' Subaru XV Crosstrek', ' Volvo XC40', ' Toyota Matrix',\n",
       "       ' Volkswagen Golf R', ' Hyundai Genesis Coupe',\n",
       "       ' Mercedes-Benz G-Class', ' Audi TTS', ' INFINITI JX35',\n",
       "       ' Audi allroad', ' Chevrolet Silverado 3500HD Built After Aug 14',\n",
       "       ' Cadillac CT6', ' GMC Savana Commercial Cutaway'], dtype=object)"
      ]
     },
     "execution_count": 8,
     "metadata": {},
     "output_type": "execute_result"
    }
   ],
   "source": [
    "names=clean_cars[\"Name\"]\n",
    "pd.unique(names)"
   ]
  },
  {
   "cell_type": "code",
   "execution_count": 9,
   "metadata": {
    "collapsed": true
   },
   "outputs": [
    {
     "data": {
      "text/plain": [
       "array(['19 cty / 23 hwy', '31 cty / 41 hwy', '29 cty / 38 hwy',\n",
       "       '16 cty / 21 hwy', '25 cty / 32 hwy', '32 cty / 38 hwy',\n",
       "       '54 cty / 50 hwy', '20 cty / 26 hwy', '22 cty / 29 hwy',\n",
       "       '15 cty / 19 hwy', '18 cty / 24 hwy', '24 cty / 35 hwy',\n",
       "       '21 cty / 25 hwy', '23 cty / 31 hwy', 'N/A cty / N/A hwy',\n",
       "       '21 cty / 28 hwy', '18 cty / 26 hwy', '21 cty / 27 hwy',\n",
       "       '16 cty / 23 hwy', '14 cty / 18 hwy', '28 cty / 38 hwy',\n",
       "       '15 cty / 22 hwy', '27 cty / 33 hwy', '22 cty / 28 hwy',\n",
       "       '25 cty / 31 hwy', '28 cty / 37 hwy', '25 cty / 36 hwy',\n",
       "       '122 cty / 108 hwy', '28 cty / 36 hwy', '27 cty / 37 hwy',\n",
       "       '30 cty / 42 hwy', '31 cty / 39 hwy', '30 cty / 40 hwy',\n",
       "       '25 cty / 38 hwy', '29 cty / 37 hwy', '26 cty / 36 hwy',\n",
       "       '25 cty / 30 hwy', '30 cty / 39 hwy', '26 cty / 38 hwy',\n",
       "       '31 cty / 40 hwy', '29 cty / 39 hwy', '24 cty / 30 hwy',\n",
       "       '21 cty / 32 hwy', '26 cty / 39 hwy', '25 cty / 34 hwy',\n",
       "       '30 cty / 38 hwy', '22 cty / 35 hwy', '21 cty / 29 hwy',\n",
       "       '29 cty / 40 hwy', '106 cty / 92 hwy', '25 cty / 35 hwy',\n",
       "       '25 cty / 33 hwy', '33 cty / 41 hwy', '28 cty / 40 hwy',\n",
       "       '27 cty / 38 hwy', '22 cty / 30 hwy', '24 cty / 32 hwy',\n",
       "       '20 cty / 29 hwy', '17 cty / 22 hwy', '16 cty / 19 hwy',\n",
       "       '11 cty / 15 hwy', '20 cty / 28 hwy', '18 cty / 25 hwy',\n",
       "       '22 cty / 31 hwy', '23 cty / 34 hwy', '23 cty / 33 hwy',\n",
       "       '18 cty / 22 hwy', '27 cty / 36 hwy', '25 cty / 26 hwy',\n",
       "       '21 cty / 30 hwy', '16 cty / 22 hwy', '28 cty / 39 hwy',\n",
       "       '15 cty / 18 hwy', '28 cty / 35 hwy', '14 cty / 23 hwy',\n",
       "       '19 cty / 26 hwy', '17 cty / 21 hwy', '19 cty / 29 hwy',\n",
       "       '27 cty / 32 hwy', '23 cty / 30 hwy', '18 cty / 23 hwy',\n",
       "       '18 cty / 27 hwy', '24 cty / 34 hwy', '24 cty / 31 hwy',\n",
       "       '22 cty / 34 hwy', '44 cty / 41 hwy', '15 cty / 21 hwy',\n",
       "       '21 cty / 31 hwy', '51 cty / 48 hwy', '19 cty / 24 hwy',\n",
       "       '22 cty / 33 hwy', '20 cty / 27 hwy', '44 cty / 44 hwy',\n",
       "       '53 cty / 46 hwy', '15 cty / 20 hwy', '17 cty / 25 hwy',\n",
       "       '22 cty / 32 hwy', '16 cty / 26 hwy', '26 cty / 33 hwy',\n",
       "       '20 cty / 25 hwy', '34 cty / 42 hwy', '17 cty / 26 hwy',\n",
       "       '31 cty / 42 hwy', '34 cty / 30 hwy', '17 cty / 23 hwy',\n",
       "       '24 cty / 33 hwy', '19 cty / 27 hwy', '27 cty / 31 hwy',\n",
       "       '32 cty / 42 hwy', '13 cty / 19 hwy', '14 cty / 19 hwy',\n",
       "       '18 cty / 28 hwy', '17 cty / 24 hwy', '32 cty / 40 hwy',\n",
       "       '27 cty / 35 hwy', '126 cty / 105 hwy', '43 cty / 41 hwy',\n",
       "       '27 cty / 39 hwy', '126 cty / 101 hwy', '33 cty / 40 hwy',\n",
       "       '24 cty / 36 hwy', '12 cty / 17 hwy', '26 cty / 37 hwy',\n",
       "       '23 cty / 28 hwy', '95 cty / 93 hwy', '13 cty / 18 hwy',\n",
       "       '16 cty / 24 hwy', '16 cty / 25 hwy', '19 cty / 28 hwy',\n",
       "       '18 cty / 29 hwy', '17 cty / 27 hwy', '26 cty / 34 hwy',\n",
       "       '18 cty / 21 hwy', '30 cty / 28 hwy', '17 cty / 20 hwy',\n",
       "       '25 cty / 37 hwy', '26 cty / 31 hwy', 'erior ColorGray',\n",
       "       '22 cty / 27 hwy', '23 cty / 36 hwy', '30 cty / 35 hwy',\n",
       "       '26 cty / 35 hwy', '19 cty / 25 hwy', '29 cty / 41 hwy',\n",
       "       '124 cty / 101 hwy', '20 cty / 31 hwy', '21 cty / 26 hwy',\n",
       "       '13 cty / 21 hwy', '31 cty / 36 hwy', '36 cty / 40 hwy',\n",
       "       '23 cty / 32 hwy', '23 cty / 29 hwy', '28 cty / 41 hwy',\n",
       "       '15 cty / 26 hwy', '48 cty / 45 hwy', '15 cty / 23 hwy',\n",
       "       '13 cty / 17 hwy', '34 cty / 31 hwy', '19 cty / 22 hwy',\n",
       "       '22 cty / 26 hwy', '32 cty / 41 hwy', '30 cty / 41 hwy',\n",
       "       '27 cty / 40 hwy', '28 cty / 34 hwy', '27 cty / 34 hwy',\n",
       "       '23 cty / 35 hwy', '41 cty / 36 hwy', '11 cty / 19 hwy',\n",
       "       '15 cty / 24 hwy', '110 cty / 99 hwy', '10 cty / 17 hwy',\n",
       "       '50 cty / 45 hwy', '25 cty / 28 hwy', '19 cty / 30 hwy',\n",
       "       '14 cty / 20 hwy', '30 cty / 36 hwy', '39 cty / 38 hwy',\n",
       "       '21 cty / 34 hwy', '20 cty / 30 hwy', '15 cty / 25 hwy',\n",
       "       '16 cty / 20 hwy', '42 cty / 37 hwy', '12 cty / 18 hwy',\n",
       "       '29 cty / 36 hwy', '42 cty / 36 hwy', '40 cty / 39 hwy',\n",
       "       '26 cty / 32 hwy', '14 cty / 21 hwy', '20 cty / 24 hwy',\n",
       "       '42 cty / 38 hwy', '40 cty / 43 hwy', '124 cty / 94 hwy',\n",
       "       '22 cty / 25 hwy', '24 cty / 29 hwy', '17 cty / 28 hwy',\n",
       "       '29 cty / 35 hwy', '14 cty / 22 hwy', '104 cty / 91 hwy',\n",
       "       '31 cty / 45 hwy', '29 cty / 34 hwy', '27 cty / 29 hwy',\n",
       "       '49 cty / 47 hwy', '21 cty / 33 hwy', '104 cty / 87 hwy',\n",
       "       '28 cty / 27 hwy', '17 cty / 19 hwy', '13 cty / 20 hwy',\n",
       "       '32 cty / 37 hwy', '24 cty / 26 hwy', '20 cty / 23 hwy',\n",
       "       '24 cty / 28 hwy', '27 cty / 28 hwy', '39 cty / 43 hwy',\n",
       "       '28 cty / 31 hwy', '40 cty / 38 hwy', '27 cty / 46 hwy',\n",
       "       '12 cty / 20 hwy', '35 cty / 39 hwy', '31 cty / 38 hwy',\n",
       "       '33 cty / 34 hwy', '60 cty / 51 hwy', '32 cty / 39 hwy',\n",
       "       '35 cty / 42 hwy', '37 cty / 44 hwy', '35 cty / 41 hwy',\n",
       "       '34 cty / 38 hwy', '23 cty / 27 hwy', '21 cty / 24 hwy',\n",
       "       '43 cty / 39 hwy', '43 cty / 40 hwy', 'oth', '28 cty / 42 hwy',\n",
       "       '95 cty / 81 hwy', '101 cty / 93 hwy', '36 cty / 37 hwy',\n",
       "       '126 cty / 99 hwy', '129 cty / 102 hwy', '121 cty / 103 hwy',\n",
       "       '120 cty / 92 hwy', '128 cty / 109 hwy', '26 cty / 30 hwy',\n",
       "       '13 cty / 16 hwy', '34 cty / 39 hwy', '51 cty / 49 hwy',\n",
       "       '30 cty / 37 hwy', '11 cty / 18 hwy', '122 cty / 93 hwy',\n",
       "       '40 cty / 44 hwy', '12 cty / 16 hwy', '51 cty / 53 hwy',\n",
       "       '137 cty / 111 hwy', '55 cty / 49 hwy', '40 cty / 46 hwy',\n",
       "       '88 cty / 90 hwy', '19 cty / 31 hwy', '42 cty / 48 hwy',\n",
       "       '11 cty / 17 hwy', '28 cty / 30 hwy', '28 cty / 28 hwy',\n",
       "       '120 cty / 112 hwy', '31 cty / 28 hwy', '35 cty / 34 hwy',\n",
       "       '27 cty / 25 hwy', '44 cty / 40 hwy', '30 cty / 27 hwy',\n",
       "       '41 cty / 44 hwy', '94 cty / 97 hwy', '31 cty / 27 hwy',\n",
       "       '48 cty / 43 hwy', '129 cty / 106 hwy', '47 cty / 47 hwy',\n",
       "       '128 cty / 110 hwy', 'erior ColorBlack', '112 cty / 91 hwy',\n",
       "       '24 cty / 37 hwy', '36 cty / 39 hwy', '29 cty / 27 hwy',\n",
       "       '10 cty / 16 hwy', '12 cty / 19 hwy', '12 cty / 21 hwy',\n",
       "       '20 cty / 20 hwy', '17 cty / 29 hwy', '136 cty / 123 hwy',\n",
       "       '33 cty / 30 hwy', '26 cty / 24 hwy', '31 cty / 43 hwy',\n",
       "       '12 cty / 14 hwy', '18 cty / 30 hwy', '58 cty / 53 hwy',\n",
       "       '31 cty / 46 hwy', '30 cty / 45 hwy'], dtype=object)"
      ]
     },
     "execution_count": 9,
     "metadata": {},
     "output_type": "execute_result"
    }
   ],
   "source": [
    "mihs=clean_cars[\"MPG\"]\n",
    "pd.unique(mihs)"
   ]
  },
  {
   "cell_type": "code",
   "execution_count": 10,
   "metadata": {
    "scrolled": true
   },
   "outputs": [],
   "source": [
    "clean_cars = clean_cars[clean_cars.FuelType !=\"Diesel\"]\n",
    "clean_cars.reset_index(inplace=True)\n",
    "clean_cars.drop(columns=['index'],inplace=True)"
   ]
  },
  {
   "cell_type": "code",
   "execution_count": 11,
   "metadata": {},
   "outputs": [],
   "source": [
    "clean_cars = clean_cars[clean_cars.FuelType !=\"Hybrid\"]\n",
    "clean_cars.reset_index(inplace=True)\n",
    "clean_cars.drop(columns=['index'],inplace=True)"
   ]
  },
  {
   "cell_type": "code",
   "execution_count": 12,
   "metadata": {},
   "outputs": [],
   "source": [
    "clean_cars = clean_cars[clean_cars.FuelType !=\"Plug-In\"]\n",
    "clean_cars.reset_index(inplace=True)\n",
    "clean_cars.drop(columns=['index'],inplace=True)"
   ]
  },
  {
   "cell_type": "code",
   "execution_count": 13,
   "metadata": {},
   "outputs": [],
   "source": [
    "clean_cars = clean_cars[clean_cars.Price !=\"uel TypeGas\"]\n",
    "clean_cars.reset_index(inplace=True)\n",
    "clean_cars.drop(columns=['index'],inplace=True)"
   ]
  },
  {
   "cell_type": "code",
   "execution_count": 14,
   "metadata": {},
   "outputs": [],
   "source": [
    "clean_cars = clean_cars[clean_cars.MPG !=\"N/A cty / N/A hwy\"]\n",
    "clean_cars.reset_index(inplace=True)\n",
    "clean_cars.drop(columns=['index'],inplace=True)"
   ]
  },
  {
   "cell_type": "code",
   "execution_count": 15,
   "metadata": {},
   "outputs": [],
   "source": [
    "electric=clean_cars.loc[clean_cars['Engine'] == \"L - Electric\"]\n",
    "electric.reset_index(inplace=True)\n",
    "for z in range(len(electric)):\n",
    "    index_number=electric['index'][z]\n",
    "    clean_cars.drop(index=index_number,inplace=True)"
   ]
  },
  {
   "cell_type": "code",
   "execution_count": 16,
   "metadata": {},
   "outputs": [],
   "source": [
    "clean_car1=clean_cars.copy()\n",
    "clean_car1.set_index('Vin',inplace=True)\n",
    "clean_car1.reset_index(inplace=True)"
   ]
  },
  {
   "cell_type": "code",
   "execution_count": 17,
   "metadata": {},
   "outputs": [
    {
     "data": {
      "text/plain": [
       "array(['Quartzite Metallic', 'Taffeta White', 'Phantom Black', ...,\n",
       "       'Olympus Silver Metallic', 'Nimbus Gray Metallic',\n",
       "       'Deep Blue Opal Metallic'], dtype=object)"
      ]
     },
     "execution_count": 17,
     "metadata": {},
     "output_type": "execute_result"
    }
   ],
   "source": [
    "colu=clean_car1[\"Extrior\"]\n",
    "colur=pd.unique(colu)\n",
    "colur"
   ]
  },
  {
   "cell_type": "code",
   "execution_count": 18,
   "metadata": {},
   "outputs": [],
   "source": [
    "mpg=clean_car1.MPG\n",
    "city_mpg=[]\n",
    "high_mpg=[]\n",
    "for c in mpg:\n",
    "    city=c[0:2]\n",
    "    highway=c[9:11]\n",
    "    city_mpg.append(city)\n",
    "    high_mpg.append(highway)\n",
    "\n",
    "clean_car1[\"City\"]=city_mpg\n",
    "clean_car1[\"Highway\"]=high_mpg\n",
    "clean_car1.drop(columns='MPG',inplace=True)"
   ]
  },
  {
   "cell_type": "code",
   "execution_count": 19,
   "metadata": {
    "scrolled": true
   },
   "outputs": [],
   "source": [
    "clean_car1['City']=clean_car1['City'].astype(int)\n",
    "clean_car1['Highway']=clean_car1['Highway'].astype(int)\n",
    "clean_car1['Year']=clean_car1['Year'].astype(int)\n",
    "clean_car1['Miles']=clean_car1['Miles'].astype(int)\n",
    "clean_car1['Price']=clean_car1['Price'].astype(int)"
   ]
  },
  {
   "cell_type": "code",
   "execution_count": 20,
   "metadata": {},
   "outputs": [],
   "source": [
    "col=car_colors.Color\n",
    "Colour={}\n",
    "colo=col.tolist()\n",
    "i=0\n",
    "while i<=len(colo)-1:\n",
    "    j=colo[i]\n",
    "    Colour[j]=i\n",
    "    i=i+1"
   ]
  },
  {
   "cell_type": "code",
   "execution_count": 21,
   "metadata": {},
   "outputs": [],
   "source": [
    "Ext=clean_car1.Extrior\n",
    "list_colu= []\n",
    "list_col = []\n",
    "i=0\n",
    "for Exto in Ext:\n",
    "    Ex=Exto.lower()\n",
    "    for Co in col:      \n",
    "        cole=Co.lower()\n",
    "        if cole in Ex:\n",
    "            list_col.append(Co)\n",
    "            break\n",
    "    else:\n",
    "        list_col.append(\"Others\")\n",
    "#while i<len(list_col):\n",
    "    #k=list_col[i]\n",
    "    #numd=Colour[k]\n",
    "    #list_colu.append(numd)\n",
    "    #i=i+1   \n",
    "#clean_car1[\"Color\"]=list_colu\n",
    "clean_car1[\"Color\"]=list_col"
   ]
  },
  {
   "cell_type": "code",
   "execution_count": 22,
   "metadata": {},
   "outputs": [],
   "source": [
    "charg=['Turbocharged','Regular','Supercharged']\n",
    "Turbos={}\n",
    "i=0\n",
    "while i<=len(charg)-1:\n",
    "    j=charg[i]\n",
    "    Turbos[j]=i\n",
    "    i=i+1\n"
   ]
  },
  {
   "cell_type": "code",
   "execution_count": 23,
   "metadata": {},
   "outputs": [],
   "source": [
    "Char=clean_car1.Engine\n",
    "list_Tur = []\n",
    "list_Turb= []\n",
    "i=0\n",
    "for Charge in Char:\n",
    "    Cha=Charge.lower()\n",
    "    for Turb in charg:      \n",
    "        Turbo=Turb.lower()\n",
    "        if Turbo in Cha :\n",
    "            list_Tur.append(Turb)\n",
    "            break\n",
    "    else:\n",
    "        list_Tur.append(\"Regular\")\n",
    "while i<len(list_Tur):\n",
    "    k=list_Tur[i]\n",
    "    nume=Turbos[k]\n",
    "    list_Turb.append(nume)\n",
    "    i=i+1   \n",
    "clean_car1[\"Turbo\"]=list_Turb"
   ]
  },
  {
   "cell_type": "code",
   "execution_count": 24,
   "metadata": {},
   "outputs": [],
   "source": [
    "lis_cyl=[]\n",
    "for i in range(len(Char)):\n",
    "    lis_cyl.append(clean_car1[\"Engine\"][i][5:13])\n",
    "clean_car1[\"Temp\"]=lis_cyl"
   ]
  },
  {
   "cell_type": "code",
   "execution_count": 25,
   "metadata": {},
   "outputs": [],
   "source": [
    "Cy=['3','4','5','6','7','8','9','10','11','12']\n",
    "Cylinder={}\n",
    "i=0\n",
    "while i<=len(Cy)-1:\n",
    "    j=Cy[i]\n",
    "    Cylinder[j]=i\n",
    "    i=i+1"
   ]
  },
  {
   "cell_type": "code",
   "execution_count": 26,
   "metadata": {},
   "outputs": [],
   "source": [
    "Cyl=clean_car1.Temp\n",
    "list_cyl = []\n",
    "list_cylin= []\n",
    "i=0\n",
    "for Cyla in Cyl:\n",
    "    Cys=Cyla.lower()\n",
    "    for Cyli in Cy: \n",
    "        Cylin=Cyli.lower()\n",
    "        if Cylin in Cys:\n",
    "            list_cyl.append(Cyli)\n",
    "#while i<len(list_cyl):\n",
    "    #k=list_cyl[i]\n",
    "    #num=Cylinder[k]\n",
    "    #list_cylin.append(num)\n",
    "    #i=i+1\n",
    "#clean_car1[\"Cylinder\"]=list_cylin\n",
    "clean_car1[\"Cylinder\"]=list_cyl"
   ]
  },
  {
   "cell_type": "code",
   "execution_count": 27,
   "metadata": {},
   "outputs": [
    {
     "data": {
      "text/plain": [
       "array(['AWD', 'FWD', '4WD', 'RWD'], dtype=object)"
      ]
     },
     "execution_count": 27,
     "metadata": {},
     "output_type": "execute_result"
    }
   ],
   "source": [
    "types=clean_car1[\"DriveType\"]\n",
    "tye=pd.unique(types)\n",
    "tye"
   ]
  },
  {
   "cell_type": "code",
   "execution_count": 28,
   "metadata": {},
   "outputs": [],
   "source": [
    "ty=['AWD', 'FWD', '4WD', 'RWD']\n",
    "Types={}\n",
    "i=0\n",
    "while i<=len(ty)-1:\n",
    "    j=ty[i]\n",
    "    Types[j]=i\n",
    "    i=i+1"
   ]
  },
  {
   "cell_type": "code",
   "execution_count": 29,
   "metadata": {},
   "outputs": [],
   "source": [
    "Ty=clean_car1.DriveType\n",
    "list_Ty = []\n",
    "list_Typ= []\n",
    "i=0\n",
    "for Typ in Ty:\n",
    "    Typs=Typ.lower()\n",
    "    for tys in ty: \n",
    "        typs=tys.lower()\n",
    "        if typs in Typs:\n",
    "            list_Ty.append(tys)\n",
    "while i<len(list_Ty):\n",
    "    k=list_Ty[i]\n",
    "    nums=Types[k]\n",
    "    list_Typ.append(nums)\n",
    "    i=i+1\n",
    "clean_car1[\"DrivingType\"]=list_Typ"
   ]
  },
  {
   "cell_type": "code",
   "execution_count": 30,
   "metadata": {
    "scrolled": true
   },
   "outputs": [],
   "source": [
    "clean_Vi=clean_car1[\"Vin\"].copy()\n",
    "clean_Vin=pd.DataFrame(clean_Vi)"
   ]
  },
  {
   "cell_type": "code",
   "execution_count": 39,
   "metadata": {},
   "outputs": [],
   "source": [
    "names1=clean_car1[\"Name\"]"
   ]
  },
  {
   "cell_type": "code",
   "execution_count": 32,
   "metadata": {},
   "outputs": [],
   "source": [
    "clean_car1.to_csv(\"clean_car.csv\",header=True)\n",
    "clean_Vin.to_csv(\"clean_Vins.csv\",header=True)"
   ]
  }
 ],
 "metadata": {
  "kernelspec": {
   "display_name": "Python 3",
   "language": "python",
   "name": "python3"
  },
  "language_info": {
   "codemirror_mode": {
    "name": "ipython",
    "version": 3
   },
   "file_extension": ".py",
   "mimetype": "text/x-python",
   "name": "python",
   "nbconvert_exporter": "python",
   "pygments_lexer": "ipython3",
   "version": "3.7.1"
  }
 },
 "nbformat": 4,
 "nbformat_minor": 2
}
